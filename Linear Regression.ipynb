{
 "cells": [
  {
   "cell_type": "code",
   "execution_count": 1,
   "metadata": {},
   "outputs": [],
   "source": [
    "from IPython.core.display import HTML\n",
    "HTML(\"\"\"<style>.output_png {display: table-cell;text-align: center;vertical-align: middle;}</style>\"\"\");"
   ]
  },
  {
   "cell_type": "code",
   "execution_count": 2,
   "metadata": {},
   "outputs": [],
   "source": [
    "import numpy as np"
   ]
  },
  {
   "cell_type": "code",
   "execution_count": 3,
   "metadata": {},
   "outputs": [],
   "source": [
    "import pandas as pd"
   ]
  },
  {
   "cell_type": "code",
   "execution_count": 4,
   "metadata": {},
   "outputs": [],
   "source": [
    "import matplotlib.pyplot as plt"
   ]
  },
  {
   "cell_type": "code",
   "execution_count": 5,
   "metadata": {},
   "outputs": [],
   "source": [
    "from matplotlib.ticker import LinearLocator"
   ]
  },
  {
   "cell_type": "code",
   "execution_count": 6,
   "metadata": {},
   "outputs": [],
   "source": [
    "from matplotlib import cm"
   ]
  },
  {
   "cell_type": "code",
   "execution_count": 7,
   "metadata": {},
   "outputs": [],
   "source": [
    "import seaborn as sns"
   ]
  },
  {
   "cell_type": "code",
   "execution_count": 8,
   "metadata": {},
   "outputs": [],
   "source": [
    "import functions as fct"
   ]
  },
  {
   "cell_type": "code",
   "execution_count": 9,
   "metadata": {},
   "outputs": [],
   "source": [
    "from sklearn import linear_model"
   ]
  },
  {
   "cell_type": "markdown",
   "metadata": {},
   "source": [
    "# Introduction et notations"
   ]
  },
  {
   "cell_type": "markdown",
   "metadata": {},
   "source": [
    "La régression linéaire est une méthode d'approximation d'une grandeur continue par une fonction linéaire d'une ou de plusieurs variables. Ce Notebook a pour but d'expliquer le fonctionnement de cette méthode et le choix des paramètres.\n",
    "Pour illustrer, nous utiliserons un jeu de données contenant les profits réalisé par des restaurants de la même chaîne dans différentes villes ainsi que la population de chacune de ces villes. Nous allons ainsi tenter de determiner une relation entre la grandeur continue correspondant au profit et la variable explicative population, à l'aide d'une régression simple."
   ]
  },
  {
   "cell_type": "markdown",
   "metadata": {},
   "source": [
    "Dans la suite, nous utiliserons les notations suivantes : <br/>\n",
    "$y$ : la variable à expliquer <br/>\n",
    "$\\bar{y}$ : prediction de la grandeur y. <br/>\n",
    "$X_{1},...,X_{n}$ : les variables explicatives. Dans le cas d'une regression simple (à une seule variable), on note la seule variable explicative X. <br/>\n",
    "$m$ : le nombre d'échantillons. $\\Rightarrow X_{i=1,...,n},y,\\bar{y} \\in \\mathbb{R}^{m}$ <br/>"
   ]
  },
  {
   "cell_type": "markdown",
   "metadata": {},
   "source": [
    "Les notations ayant été posées, il est maintenant possible de formuler le problème de la régression linéaire : <br/>\n",
    "La régression linéaire consiste à approcher une grandeur continue $y$ par une grandeur prédite $\\bar{y}$ définie par : $\\bar{y}=\\theta_{0}+\\theta_{1}X_{1} + ... + \\theta_{n}X_{n} = \\theta^{T}X$ <br/>\n",
    "Et dans le cas d'une régression simple : $\\bar{y}=\\theta_{0}+\\theta_{1}X_1=\\theta^{T}X$ avec $\\theta = (\\theta_0,~\\theta_1)$"
   ]
  },
  {
   "cell_type": "markdown",
   "metadata": {},
   "source": [
    "Pour pouvoir appliquer le calcul matriciel et vectorizer l'équation $\\bar{y}=\\theta_{0}+\\theta_{1}X_{1} + ... + \\theta_{n}X_{n}$, il est d'usage d'effectuer la transformation suivante : <br/>\n",
    "<br/>\n",
    "$X=\\begin{pmatrix}1 & X_1^{(1)} & X_2^{(1)} & X_n^{(1)} \\\\\\ 1 & X_1^{(2)} & X_2^{(2)} & X_n^{(2)}\\\\\\ \\vdots & \\vdots & \\vdots & \\vdots \\\\\\ 1 & X_1^{(m)} & X_2^{(m)} & X_n^{(m)}\\end{pmatrix}$, avec $X_i=\\begin{pmatrix}X_{i}^{(1)}\\\\\\ X_{i}^{(2)} \\\\\\ \\vdots \\\\\\ X_{i}^{(m)} \\end{pmatrix}$ <br/>\n",
    "<br/>\n",
    "Dans le cas de la regression simple : <br/>\n",
    "<br/>\n",
    "$X=\\begin{pmatrix}1 & X_1^{(1)}\\\\\\ 1 & X_1^{(2)} \\\\\\ \\vdots & \\vdots \\\\\\ 1 & X_1^{(m)}\\end{pmatrix}$ avec $X_1=\\begin{pmatrix}X_1^{(1)}\\\\\\ X_1^{(2)} \\\\\\ \\vdots \\\\\\ X_1^{(m)} \\end{pmatrix}$"
   ]
  },
  {
   "cell_type": "markdown",
   "metadata": {},
   "source": [
    "# La Régression Simple"
   ]
  },
  {
   "cell_type": "markdown",
   "metadata": {},
   "source": [
    "## Importation des données"
   ]
  },
  {
   "cell_type": "markdown",
   "metadata": {},
   "source": [
    "Nous commençons par importer les données à l'aide de la librairie pandas. La première colonne contient les populations de chaque ville (variable explicative $X$) et la seconde contient le profit réalisé par le restaurant dans la ville correspondante (variable expliquée $y$)."
   ]
  },
  {
   "cell_type": "code",
   "execution_count": 10,
   "metadata": {},
   "outputs": [],
   "source": [
    "data = pd.read_csv(\"data1.txt\")"
   ]
  },
  {
   "cell_type": "code",
   "execution_count": 11,
   "metadata": {},
   "outputs": [],
   "source": [
    "X1 = data[\"X1\"].to_numpy() # population de chaque ville (en 10 000 ème d'habitants)."
   ]
  },
  {
   "cell_type": "code",
   "execution_count": 12,
   "metadata": {},
   "outputs": [],
   "source": [
    "y = data[\"y\"].to_numpy() # profit réalisé par chaque restaurant (en 10 000 ème de $)."
   ]
  },
  {
   "cell_type": "code",
   "execution_count": 14,
   "metadata": {},
   "outputs": [
    {
     "data": {
      "image/png": "[encoded data removed]",
      "text/plain": [
       "<Figure size 432x288 with 1 Axes>"
      ]
     },
     "metadata": {
      "needs_background": "light"
     },
     "output_type": "display_data"
    }
   ],
   "source": [
    "figure = plt.figure\n",
    "plt.scatter(X1,y,marker=\"+\")\n",
    "plt.title(\"Data Representation\")\n",
    "plt.xlabel(\"Population of City in 10,000s\");\n",
    "plt.ylabel(\"Profit in $10,000s\");"
   ]
  },
  {
   "cell_type": "markdown",
   "metadata": {},
   "source": [
    "Dans la suite, nous allons tenter d'approcher ce graphique par une fonction linéaire en essayant de tracer une droite de façon à minimiser la distance entre chaque point du graphique et cette droite. Il est important de noter que contrairement à ce que son nom laisse suggérer, la régression linéaire ne résulte pas forcément en une droite. En réalité, la forme de la courbe obtenue dépend des variables explicatives choisies. Par exemple, si la variable explicative choisie est $X^{2}$ au lieu de $X$, la courbe obtenue sera une parabole au lieu d'être une droite. C'est pourquoi il est important de commencer par analyser la forme des donnée pour identifier le type de fonction le plus adéquat et en déduire les variables explicatives les plus adaptées.    "
   ]
  },
  {
   "cell_type": "markdown",
   "metadata": {},
   "source": [
    "## Exploration des données"
   ]
  },
  {
   "cell_type": "markdown",
   "metadata": {},
   "source": [
    "Avant de nous lancer dans la modélisation, nous commençons par faire un peu d'exploration de données pour bien comprendre les données avec lesquels ont va travailler et pour voir s'il faut procéder à un nettoyage des données."
   ]
  },
  {
   "cell_type": "code",
   "execution_count": 15,
   "metadata": {
    "scrolled": true
   },
   "outputs": [
    {
     "data": {
      "text/plain": [
       "<AxesSubplot:xlabel='X1'>"
      ]
     },
     "execution_count": 15,
     "metadata": {},
     "output_type": "execute_result"
    },
    {
     "data": {
      "image/png": "[encoded data removed]",
      "text/plain": [
       "<Figure size 432x288 with 1 Axes>"
      ]
     },
     "metadata": {
      "needs_background": "light"
     },
     "output_type": "display_data"
    }
   ],
   "source": [
    "sns.boxplot(x=\"X1\",data=data) # boxplot des populations."
   ]
  },
  {
   "cell_type": "markdown",
   "metadata": {},
   "source": [
    "Ce boxplot nous apprend qu'au moins 75% des restaurants de notre échantillon ont une population inférieure à 85800 habitants (villes moyennes). Elle montre aussi la présence de valeurs atypiques, à savoir les villes ayant une population de plus de 127000 habitants. (ici, atypique ne veux pas dire fausse, cela signifie simplement que les valeurs sont très grandes par rapport à la médiane)"
   ]
  },
  {
   "cell_type": "markdown",
   "metadata": {},
   "source": [
    "Pour plus de lisibilité, nous allons diviser les villes en quatre classe en fonction de leur population $X1=P$ :<br/>\n",
    "$P\\in [50000,100000[$ (les petites villes) <br/> $P\\in [100000,150000[$ (les villes moyennes) <br/> $P\\in [150000,+\\infty[$ (les grandes villes)."
   ]
  },
  {
   "cell_type": "code",
   "execution_count": 16,
   "metadata": {},
   "outputs": [],
   "source": [
    "#Catégorisation de la variable continue population (X1).\n",
    "data.insert(2,\"population_range\",pd.cut(data[\"X1\"],bins=[5,10,15,22.5],labels=[\"50000<X1<100000\",\"100000<X1<150000\",\"X1>150000\"]))"
   ]
  },
  {
   "cell_type": "code",
   "execution_count": 17,
   "metadata": {},
   "outputs": [
    {
     "data": {
      "text/plain": [
       "<AxesSubplot:xlabel='population_range', ylabel='y'>"
      ]
     },
     "execution_count": 17,
     "metadata": {},
     "output_type": "execute_result"
    },
    {
     "data": {
      "image/png": "[encoded data removed]",
      "text/plain": [
       "<Figure size 432x288 with 1 Axes>"
      ]
     },
     "metadata": {
      "needs_background": "light"
     },
     "output_type": "display_data"
    }
   ],
   "source": [
    "sns.boxplot(data=data,x=\"population_range\",y=\"y\") #Boxplot du profit en fonction de la classe de population."
   ]
  },
  {
   "cell_type": "markdown",
   "metadata": {},
   "source": [
    "La relation linéaire entre le profit et la population peut déjà s'intuiter en observant le boxplot. Pour la première classe de population, on observe trois outliers qui correspondent à des restaurants situés dans des villes peu peuplés mais ayant réalisé un profit aussi important que les villes moyennes. Ces restaurants sont, pour cette raison, dignes d'intérêt. "
   ]
  },
  {
   "cell_type": "markdown",
   "metadata": {},
   "source": [
    "La méthode describe() de pandas nous donne accès à des grandeurs statistiques intéressantes (les moments) de notre échantillons de donnée. "
   ]
  },
  {
   "cell_type": "code",
   "execution_count": 18,
   "metadata": {},
   "outputs": [
    {
     "data": {
      "text/html": [
       "<div>\n",
       "<style scoped>\n",
       "    .dataframe tbody tr th:only-of-type {\n",
       "        vertical-align: middle;\n",
       "    }\n",
       "\n",
       "    .dataframe tbody tr th {\n",
       "        vertical-align: top;\n",
       "    }\n",
       "\n",
       "    .dataframe thead th {\n",
       "        text-align: right;\n",
       "    }\n",
       "</style>\n",
       "<table border=\"1\" class=\"dataframe\">\n",
       "  <thead>\n",
       "    <tr style=\"text-align: right;\">\n",
       "      <th></th>\n",
       "      <th>X1</th>\n",
       "      <th>y</th>\n",
       "    </tr>\n",
       "  </thead>\n",
       "  <tbody>\n",
       "    <tr>\n",
       "      <th>count</th>\n",
       "      <td>97.000000</td>\n",
       "      <td>97.000000</td>\n",
       "    </tr>\n",
       "    <tr>\n",
       "      <th>mean</th>\n",
       "      <td>8.159800</td>\n",
       "      <td>5.839135</td>\n",
       "    </tr>\n",
       "    <tr>\n",
       "      <th>std</th>\n",
       "      <td>3.869884</td>\n",
       "      <td>5.510262</td>\n",
       "    </tr>\n",
       "    <tr>\n",
       "      <th>min</th>\n",
       "      <td>5.026900</td>\n",
       "      <td>-2.680700</td>\n",
       "    </tr>\n",
       "    <tr>\n",
       "      <th>25%</th>\n",
       "      <td>5.707700</td>\n",
       "      <td>1.986900</td>\n",
       "    </tr>\n",
       "    <tr>\n",
       "      <th>50%</th>\n",
       "      <td>6.589400</td>\n",
       "      <td>4.562300</td>\n",
       "    </tr>\n",
       "    <tr>\n",
       "      <th>75%</th>\n",
       "      <td>8.578100</td>\n",
       "      <td>7.046700</td>\n",
       "    </tr>\n",
       "    <tr>\n",
       "      <th>max</th>\n",
       "      <td>22.203000</td>\n",
       "      <td>24.147000</td>\n",
       "    </tr>\n",
       "  </tbody>\n",
       "</table>\n",
       "</div>"
      ],
      "text/plain": [
       "              X1          y\n",
       "count  97.000000  97.000000\n",
       "mean    8.159800   5.839135\n",
       "std     3.869884   5.510262\n",
       "min     5.026900  -2.680700\n",
       "25%     5.707700   1.986900\n",
       "50%     6.589400   4.562300\n",
       "75%     8.578100   7.046700\n",
       "max    22.203000  24.147000"
      ]
     },
     "execution_count": 18,
     "metadata": {},
     "output_type": "execute_result"
    }
   ],
   "source": [
    "data.describe()"
   ]
  },
  {
   "cell_type": "markdown",
   "metadata": {},
   "source": [
    "Elle nous apprend par exemple que le profit moyen réalisé par les restaurants de l'échantillon vaut - 26 800 ${$}$. En moyenne, les restaurants ont un bénefice négatif, pourtant la somme de tout les bénéfices est positive puisqu'elle vaut 5 663 961 ${$}$. Cela signifie que les bénéfices engendré par les restaurants qui réalise de gros profits suffisent à compenser les pertes des plus petits restaurants. "
   ]
  },
  {
   "cell_type": "markdown",
   "metadata": {},
   "source": [
    "Dans la suite de ce notebook, nous allons tenter de modéliser le profit réaliser par chaque restaurant en cherchant une relation linéaire entre le profit et la population de la ville. "
   ]
  },
  {
   "cell_type": "markdown",
   "metadata": {},
   "source": [
    "Avant de se lancer dans une régression linéaire, il est bon de commencer par calculer le coefficient de correlation linéaire (aussi appelé coefficient de Pearson) entre les deux variables que l'on souhaite modéliser. <br/>\n",
    "Le coefficient de correlation linéaire de deux variables $X=\\left( X_1,X_2,...,X_m \\right)$ et $Y=\\left( Y_1,Y_2,...,Y_m \\right)$ est définie par : $r_{X,Y}=\\frac{\\sum_{i=0}^{m}(X_i-\\bar{X})(Y_i-\\bar{Y})}{ \\left( \\sum_{i=0}^{m}(X_i-\\bar{X})^2 \\right)^{\\frac{1}{2}} \\left( \\sum_{i=0}^{m}(X_i-\\bar{X})^2\\right)^{\\frac{1}{2}}}  $ avec : $m$ : taille de l'échantillon et $\\bar{X},\\bar{Y}$ : moyenne de $X$, de $Y$.\n",
    "On peut soit programmer la fonction soit même, soit utiliser la fonction built in\n"
   ]
  },
  {
   "cell_type": "code",
   "execution_count": 19,
   "metadata": {},
   "outputs": [
    {
     "name": "stdout",
     "output_type": "stream",
     "text": [
      "Le coefficient de Pearson de X1 (la population) et y (le profit) vaut : 0.8378732325263412\n"
     ]
    }
   ],
   "source": [
    "print(\"Le coefficient de Pearson de X1 (la population) et y (le profit) vaut :\",np.corrcoef(X1,y)[0,1])"
   ]
  },
  {
   "cell_type": "markdown",
   "metadata": {},
   "source": [
    "Le coefficient de Pearson est proche de 1. Il est donc raisonnable de penser qu'il y a une relation linéaire entre la population de chaque ville et le profit réalisé par le restaurant de cette ville. Ceci justifie le choix du modèle linéaire."
   ]
  },
  {
   "cell_type": "markdown",
   "metadata": {},
   "source": [
    "## Représentation du coût"
   ]
  },
  {
   "cell_type": "markdown",
   "metadata": {},
   "source": [
    "Le coût est la grandeur que nous cherchons à minimiser pour que la courbe résultante de la régression s'adapte au mieux à nos données. Il est possible d'envisager plusieurs coûts : <br/>\n",
    "$C_1(X,y,\\theta)=\\frac{1}{2m}\\sum_{k=0}^{m}|\\bar{y}-y|$ : Mean Absolute Error (MAE) $(1)$ <br/>\n",
    "$C_2(X,y,\\theta)=\\frac{1}{2m}\\sum_{k=0}^{m}(\\bar{y}-y)^{2}$ : Mean Squared Error (MSE) $(2)$ <br/>\n",
    "En général, la régression linéaire fait appel à la méthode des moindres carrés, ce qui revient à utiliser la formule $(2)$. <br/>\n",
    "\n",
    "La détermination des paramètres $\\theta_{i}$ de la courbe de régression équivaut donc à résoudre le problème suivant : <br/>\n",
    "$\\min_{\\theta}~C_{2}(X,y,\\theta)$ <br/>\n",
    "Pour le résoudre, on utilise l'algorithme du gradient descendant qui nécessite trois paramètres pour fonctionner :<br/>\n",
    "- Une valeur initiale de $\\theta$.\n",
    "- Le taux d'apprentissage $\\alpha$.\n",
    "- Le nombre d'itérations à réaliser."
   ]
  },
  {
   "cell_type": "markdown",
   "metadata": {},
   "source": [
    "Dans cette section, nous allons faire varier theta dans la plage suivante : $\\theta_0 \\in [-10,10]$ et $\\theta_1 \\in [-1,4]$ et pour chacune des valeurs de $(\\theta_0,\\theta_1)$, nous allons calculer $C_2(\\theta)$ ($X$ et $y$ sont fixes)."
   ]
  },
  {
   "cell_type": "code",
   "execution_count": 20,
   "metadata": {},
   "outputs": [],
   "source": [
    "m = y.shape[0] # Taille de l'échantillon\n",
    "X = np.array([[1,round(X1[i],4)] for i in range(m)]) # On ajoute une colonne de 1 à la matrice X."
   ]
  },
  {
   "cell_type": "code",
   "execution_count": 21,
   "metadata": {},
   "outputs": [],
   "source": [
    "theta0_range = np.linspace(-10,10,100) # Vecteur des valeurs de theta_0."
   ]
  },
  {
   "cell_type": "code",
   "execution_count": 22,
   "metadata": {},
   "outputs": [],
   "source": [
    "theta1_range = np.linspace(-1,4,100) # Vecteur des valeurs de theta_1."
   ]
  },
  {
   "cell_type": "code",
   "execution_count": 23,
   "metadata": {},
   "outputs": [],
   "source": [
    "cost_computed = np.zeros((theta0_range.shape[0],theta1_range.shape[0]))\n",
    "for i in range(theta0_range.shape[0]): \n",
    "    for j in range(theta1_range.shape[0]):\n",
    "        theta=[theta0_range[i],theta1_range[j]]\n",
    "        cost_computed[i,j]=fct.cost(X,y,theta) # Calcul des valeur du coût pour chaque valeur de theta_0 et theta_1"
   ]
  },
  {
   "cell_type": "markdown",
   "metadata": {},
   "source": [
    "Puis nous représentons la fonction $C_2(\\theta_0, \\theta_1)$ à l'aide d'un graphique 3D."
   ]
  },
  {
   "cell_type": "code",
   "execution_count": 63,
   "metadata": {},
   "outputs": [
    {
     "data": {
      "image/png": "[encoded data removed]",
      "text/plain": [
       "<Figure size 432x288 with 1 Axes>"
      ]
     },
     "metadata": {
      "needs_background": "light"
     },
     "output_type": "display_data"
    }
   ],
   "source": [
    "#Affichage de la fonction coût C2(theta_0,theta_1) :\n",
    "fig, ax = plt.subplots(subplot_kw={\"projection\": \"3d\"})\n",
    "\n",
    "# Make data.\n",
    "theta1_range_msh, theta0_range_msh = np.meshgrid(theta1_range, theta0_range)\n",
    "C = cost_computed\n",
    "\n",
    "# Plot the surface.\n",
    "surf = ax.plot_surface(theta1_range_msh, theta0_range_msh, cost_computed, cmap=cm.coolwarm,\n",
    "                       linewidth=0, antialiased=False)\n",
    "plt.title('Cost vs theta0 and theta1')\n",
    "plt.xlabel('theta_1');\n",
    "plt.ylabel('theta_0');\n",
    "plt.show()"
   ]
  },
  {
   "cell_type": "code",
   "execution_count": 64,
   "metadata": {},
   "outputs": [
    {
     "data": {
      "text/plain": [
       "4.480459391893312"
      ]
     },
     "execution_count": 64,
     "metadata": {},
     "output_type": "execute_result"
    }
   ],
   "source": [
    "np.min(C) # Valeur minimale du coût"
   ]
  },
  {
   "cell_type": "markdown",
   "metadata": {},
   "source": [
    "À l'aide de la méthode where du module numpy, nous déterminons le minimum de la matrice $C = cost\\_computed$ qui contient les valeurs des $C_2(\\theta_0,\\theta_1)$"
   ]
  },
  {
   "cell_type": "code",
   "execution_count": 26,
   "metadata": {},
   "outputs": [
    {
     "data": {
      "text/plain": [
       "[-3.737373737373738, 1.1717171717171717]"
      ]
     },
     "execution_count": 26,
     "metadata": {},
     "output_type": "execute_result"
    }
   ],
   "source": [
    "theta_init = [theta0_range[np.where(Z==np.min(Z))[0][0]],theta1_range[np.where(Z==np.min(Z))[1][0]]] \n",
    "theta_init # Valeur de theta correspondant au coût minimal"
   ]
  },
  {
   "cell_type": "markdown",
   "metadata": {},
   "source": [
    "Cette valeur de $theta\\_init$ fait un bon candidat pour l'initialisation de l'algorithme du gradient descendant. Cependant, il peut s'agir d'un minimum local et le cas échéant, risque de produire une approximation peu précise. C'est pour cette raison qu'il faut parfois tester plusieurs valeurs de $theta\\_init$ avant de tomber sur le bon optimum. Cela dit, cette méthode reste intéressante et peut offrir de bons résultats."
   ]
  },
  {
   "cell_type": "markdown",
   "metadata": {},
   "source": [
    "## Définition des paramètres du gradient descendant"
   ]
  },
  {
   "cell_type": "markdown",
   "metadata": {},
   "source": [
    "Dans cette section, nous initialisons les paramètres du gradient descendant. Nous fixons $theta=theta\\_init$ proche de la valeur obtenue dans la section précedente."
   ]
  },
  {
   "cell_type": "code",
   "execution_count": 27,
   "metadata": {},
   "outputs": [],
   "source": [
    "theta_init=np.array([-4,1]) # Initialisation de theta"
   ]
  },
  {
   "cell_type": "code",
   "execution_count": 28,
   "metadata": {},
   "outputs": [],
   "source": [
    "alpha = 0.01 # Initialisation de alpha"
   ]
  },
  {
   "cell_type": "markdown",
   "metadata": {},
   "source": [
    "Le paramètre alpha correspont au taux d'apprentissage du gradient descendant. Intuitivement, plus il est faible, plus le gradient se rapproche lentement de l'optimum. S'il est trop faible l'algorithme risque de nécessiter un grand nombre d'itérations avant de converger, voir de ne jamais converger. S'il est trop élevé, l'algorithme diverge car les pas de gradients sont trop grand. Il est donc important de bien le choisir. Pour ce faire la méthode la plus simple consiste à tester plusieurs valeurs de alpha et à traçer le coût en fonction du nombre d'iterations pour chacune de ces valeurs. On garde alors la valeur de alpha qui resulte en un coût minimal et atteint en un nombre d'iterations minimal.\n",
    "Nous expliquerons ce choix de alpha dans la section dédiée."
   ]
  },
  {
   "cell_type": "code",
   "execution_count": 29,
   "metadata": {},
   "outputs": [],
   "source": [
    "n_iter = 10 # Choix du nombre d'itération"
   ]
  },
  {
   "cell_type": "markdown",
   "metadata": {},
   "source": [
    "## Gradient descendant "
   ]
  },
  {
   "cell_type": "markdown",
   "metadata": {},
   "source": [
    "Dans cette section, nous utilisons la fonction $gradient\\_descent$, que nous avons définie dans le module annexe functions.py et initialisé à l'aide des paramètres définis dans la section précédente. Cette dernière calcule la valeur de theta qui répond à notre problème. Puis nous comparons la courbe obtenue avec celle obtenue à l'aide de la librairie spécialisée scikit-learn. "
   ]
  },
  {
   "cell_type": "code",
   "execution_count": 30,
   "metadata": {},
   "outputs": [
    {
     "data": {
      "text/plain": [
       "array([-3.97825854,  1.20131941])"
      ]
     },
     "execution_count": 30,
     "metadata": {},
     "output_type": "execute_result"
    }
   ],
   "source": [
    "theta = fct.gradient_descent(X, y, theta_init, alpha, n_iter)[0]\n",
    "theta # Calcul des paramètres de la régression à l'aide de notre fonction gradient."
   ]
  },
  {
   "cell_type": "markdown",
   "metadata": {},
   "source": [
    "L'algorithme de la librairie spécialisée scikit-learn ne nécessite quant à lui aucune initialisation de paramètres, seules les vecteurs $X$ et $y$ sont recquis."
   ]
  },
  {
   "cell_type": "code",
   "execution_count": 31,
   "metadata": {},
   "outputs": [],
   "source": [
    "reg = linear_model.LinearRegression() # Définition du modèle de régression linéaire de la librairie scikit learn."
   ]
  },
  {
   "cell_type": "code",
   "execution_count": 32,
   "metadata": {},
   "outputs": [
    {
     "data": {
      "text/plain": [
       "LinearRegression()"
      ]
     },
     "execution_count": 32,
     "metadata": {},
     "output_type": "execute_result"
    }
   ],
   "source": [
    "reg.fit(X1.reshape(-1,1),y) # Entraînement de notre modèle."
   ]
  },
  {
   "cell_type": "code",
   "execution_count": 33,
   "metadata": {},
   "outputs": [
    {
     "data": {
      "text/plain": [
       "[-3.8957808783118537, 1.193033644189594]"
      ]
     },
     "execution_count": 33,
     "metadata": {},
     "output_type": "execute_result"
    }
   ],
   "source": [
    "theta_skl = [reg.intercept_,reg.coef_[0]]\n",
    "theta_skl # Valeurs des paramètres de la régression obtenu à l'aide de la librairie scikit-learn."
   ]
  },
  {
   "cell_type": "code",
   "execution_count": 34,
   "metadata": {},
   "outputs": [],
   "source": [
    "y_predict = np.dot(X,theta) # Calcul des prédictions à l'aide de notre fonction de regression."
   ]
  },
  {
   "cell_type": "code",
   "execution_count": 35,
   "metadata": {
    "scrolled": true
   },
   "outputs": [
    {
     "data": {
      "text/plain": [
       "<matplotlib.legend.Legend at 0x233153164f0>"
      ]
     },
     "execution_count": 35,
     "metadata": {},
     "output_type": "execute_result"
    },
    {
     "data": {
      "image/png": "[encoded data removed]",
      "text/plain": [
       "<Figure size 432x288 with 1 Axes>"
      ]
     },
     "metadata": {
      "needs_background": "light"
     },
     "output_type": "display_data"
    }
   ],
   "source": [
    "figure = plt.figure\n",
    "plt.plot(X1,y_predict) # Courbe obtenue avec notre fonction de régression.\n",
    "plt.plot(X1,theta_skl[1]*X1+theta_skl[0]) # Courbe de référence obtenue avec la librairie scikit learn.\n",
    "plt.scatter(X1,y,marker=\"x\") # Données initiales\n",
    "plt.title(\"Data vs Predicted Curve\")\n",
    "plt.xlabel(\"Population of City in 10,000s\");\n",
    "plt.ylabel(\"Profit in $10,000s\");\n",
    "plt.legend([\"gradient_descent prediction\",\"scikit-learn prediction\",\"actual data\"])"
   ]
  },
  {
   "cell_type": "markdown",
   "metadata": {},
   "source": [
    "La courbe obtenue à l'aide de notre gradient descendant et la courbe de référence obtenue par la librairie spécialisée scikit-learn sont presque superposables. De plus, elles décrivent bien la tendance observée sur les données réelles."
   ]
  },
  {
   "cell_type": "markdown",
   "metadata": {},
   "source": [
    "## Choix du taux d'apprentissage $ \\alpha$"
   ]
  },
  {
   "cell_type": "markdown",
   "metadata": {},
   "source": [
    "Afin de choisir le taux d'apprentissage $\\alpha$, nous testons plusieurs valeurs de alpha et pour chacune d'elle, nous traçons les coûts en fonction du nombre d'itérations. "
   ]
  },
  {
   "cell_type": "code",
   "execution_count": 36,
   "metadata": {},
   "outputs": [
    {
     "data": {
      "text/plain": [
       "<matplotlib.legend.Legend at 0x2331575fa90>"
      ]
     },
     "execution_count": 36,
     "metadata": {},
     "output_type": "execute_result"
    },
    {
     "data": {
      "image/png": "[encoded data removed]",
      "text/plain": [
       "<Figure size 432x288 with 1 Axes>"
      ]
     },
     "metadata": {
      "needs_background": "light"
     },
     "output_type": "display_data"
    }
   ],
   "source": [
    "figure = plt.figure\n",
    "alpha_values=[0.02,0.01,0.009,0.008] # Valeurs testées de alpha.\n",
    "labels=[\"alpha=\"+str(x) for x in alpha_values] # Labels correspondant aux valeurs testées de alpha.\n",
    "for alpha in alpha_values: #On itère sur les valeurs de alpha que l'on veut tester.\n",
    "    theta_predict = fct.gradient_descent(X, y, theta_init, alpha, n_iter)[0] # Calcul des paramètres de la régression.\n",
    "    y_predict = np.dot(X, theta_predict) # Calcul des prédictions.\n",
    "    cost=fct.gradient_descent(X, y, theta_init, alpha, n_iter)[1] # Calcul de l'historique des coûts (au fil des itérations de gradient descendant)\n",
    "    plt.plot(range(n_iter),cost) # Coût en fonction du nombre d'itération.\n",
    "    plt.title(\"Choice of alpha\") \n",
    "    plt.xlabel(\"Number of iterations\");\n",
    "    plt.ylabel(\"Cost\");\n",
    "plt.legend(labels)"
   ]
  },
  {
   "cell_type": "markdown",
   "metadata": {},
   "source": [
    "La valeur $\\alpha=0.1$ semble être un choix raisonnable. Elle offre un coût minimal en un nombre d'itération lui aussi minimal."
   ]
  },
  {
   "cell_type": "markdown",
   "metadata": {},
   "source": [
    "## Interprétation des résultats"
   ]
  },
  {
   "cell_type": "markdown",
   "metadata": {},
   "source": [
    "# La régression multiple"
   ]
  },
  {
   "cell_type": "markdown",
   "metadata": {},
   "source": [
    "Pour illustrer la régression multiple, nous allons utiliser un jeu de donnée comprenant des informations sur des biens immobilier, à savoir la surface de chaque bien, son nombre de pièce et son prix de vente. Le but est de définir un modèle capable de prédire le prix de vente d'une maison $y$ (variable expliquée) donnée à partir de la connaissance de sa surface $X1$ et de son nombre de pièce $X2$ (les variables explicatives). "
   ]
  },
  {
   "cell_type": "markdown",
   "metadata": {},
   "source": [
    "## Importation des données"
   ]
  },
  {
   "cell_type": "markdown",
   "metadata": {},
   "source": [
    "Nous importons les données à l'aide de la librairie pandas."
   ]
  },
  {
   "cell_type": "code",
   "execution_count": 37,
   "metadata": {},
   "outputs": [
    {
     "data": {
      "text/html": [
       "<div>\n",
       "<style scoped>\n",
       "    .dataframe tbody tr th:only-of-type {\n",
       "        vertical-align: middle;\n",
       "    }\n",
       "\n",
       "    .dataframe tbody tr th {\n",
       "        vertical-align: top;\n",
       "    }\n",
       "\n",
       "    .dataframe thead th {\n",
       "        text-align: right;\n",
       "    }\n",
       "</style>\n",
       "<table border=\"1\" class=\"dataframe\">\n",
       "  <thead>\n",
       "    <tr style=\"text-align: right;\">\n",
       "      <th></th>\n",
       "      <th>X1</th>\n",
       "      <th>X2</th>\n",
       "      <th>y</th>\n",
       "    </tr>\n",
       "  </thead>\n",
       "  <tbody>\n",
       "    <tr>\n",
       "      <th>0</th>\n",
       "      <td>2104</td>\n",
       "      <td>3</td>\n",
       "      <td>399900</td>\n",
       "    </tr>\n",
       "    <tr>\n",
       "      <th>1</th>\n",
       "      <td>1600</td>\n",
       "      <td>3</td>\n",
       "      <td>329900</td>\n",
       "    </tr>\n",
       "    <tr>\n",
       "      <th>2</th>\n",
       "      <td>2400</td>\n",
       "      <td>3</td>\n",
       "      <td>369000</td>\n",
       "    </tr>\n",
       "    <tr>\n",
       "      <th>3</th>\n",
       "      <td>1416</td>\n",
       "      <td>2</td>\n",
       "      <td>232000</td>\n",
       "    </tr>\n",
       "    <tr>\n",
       "      <th>4</th>\n",
       "      <td>3000</td>\n",
       "      <td>4</td>\n",
       "      <td>539900</td>\n",
       "    </tr>\n",
       "  </tbody>\n",
       "</table>\n",
       "</div>"
      ],
      "text/plain": [
       "     X1  X2       y\n",
       "0  2104   3  399900\n",
       "1  1600   3  329900\n",
       "2  2400   3  369000\n",
       "3  1416   2  232000\n",
       "4  3000   4  539900"
      ]
     },
     "execution_count": 37,
     "metadata": {},
     "output_type": "execute_result"
    }
   ],
   "source": [
    "data_multiple = pd.read_csv(\"data2.txt\")\n",
    "data_multiple.head()"
   ]
  },
  {
   "cell_type": "code",
   "execution_count": 38,
   "metadata": {},
   "outputs": [],
   "source": [
    "data_multiple.describe();"
   ]
  },
  {
   "cell_type": "code",
   "execution_count": 39,
   "metadata": {},
   "outputs": [],
   "source": [
    "X1 = data_multiple[\"X1\"].to_numpy() # surface du bien immobilier (en m2)"
   ]
  },
  {
   "cell_type": "code",
   "execution_count": 40,
   "metadata": {},
   "outputs": [],
   "source": [
    "X2 = data_multiple[\"X2\"].to_numpy() # nombre de pièces"
   ]
  },
  {
   "cell_type": "code",
   "execution_count": 41,
   "metadata": {},
   "outputs": [],
   "source": [
    "y = data_multiple[\"y\"].to_numpy() # prix du bien"
   ]
  },
  {
   "cell_type": "markdown",
   "metadata": {},
   "source": [
    "## Exploration des données"
   ]
  },
  {
   "cell_type": "markdown",
   "metadata": {},
   "source": [
    "Nous allons utiliser les boxplots pour avoir un aperçu de la dispersion des données autour de leurs grandeurs centrales."
   ]
  },
  {
   "cell_type": "code",
   "execution_count": 42,
   "metadata": {},
   "outputs": [],
   "source": [
    "I = np.append(np.append(np.where(X2==2),np.where(X2==3)),np.where(X2==4)) # les inices des maisons ayant 2 à 4 pièces."
   ]
  },
  {
   "cell_type": "markdown",
   "metadata": {},
   "source": [
    "Comme il n'y a qu'une seule maison avec une seule pièce et qu'une seule maison avec 5 pièces dans notre échantillon, il n'est pas intéressant de les représenter sur le boxplot.\n",
    "\n",
    "|Maison|Surface|Nombre de pièces|Prix|\n",
    "|:---|:---|:---|:---| \n",
    "|Maison 13|2000|5|699900|\n",
    "|Maison 31|500|1|169900|"
   ]
  },
  {
   "cell_type": "code",
   "execution_count": 43,
   "metadata": {},
   "outputs": [
    {
     "data": {
      "text/plain": [
       "<AxesSubplot:xlabel='X2', ylabel='y'>"
      ]
     },
     "execution_count": 43,
     "metadata": {},
     "output_type": "execute_result"
    },
    {
     "data": {
      "image/png": "[encoded data removed]",
      "text/plain": [
       "<Figure size 432x288 with 1 Axes>"
      ]
     },
     "metadata": {
      "needs_background": "light"
     },
     "output_type": "display_data"
    }
   ],
   "source": [
    "sns.boxplot(x=data_multiple[\"X2\"].iloc[I],y=data_multiple[\"y\"]) #boxplot du prix des maisons avec les échantillons de maisons ayant 2, 3 ou 4 pièces."
   ]
  },
  {
   "cell_type": "code",
   "execution_count": 69,
   "metadata": {},
   "outputs": [
    {
     "data": {
      "text/plain": [
       "Text(0, 0.5, 'Prix (en $)')"
      ]
     },
     "execution_count": 69,
     "metadata": {},
     "output_type": "execute_result"
    },
    {
     "data": {
      "image/png": "[encoded data removed]",
      "text/plain": [
       "<Figure size 432x288 with 1 Axes>"
      ]
     },
     "metadata": {
      "needs_background": "light"
     },
     "output_type": "display_data"
    }
   ],
   "source": [
    "plt.figure()\n",
    "sns.scatterplot(data=data_multiple,x=\"X1\",y=\"y\") # y correspond au prix et X1 à la surface de la maison (en m2)\n",
    "plt.title(\"Prix des maisons en fonction de leurs surfaces\")\n",
    "plt.xlabel(\"Surface X1=S (en m2)\")\n",
    "plt.ylabel(\"Prix (en $)\")"
   ]
  },
  {
   "cell_type": "markdown",
   "metadata": {},
   "source": [
    "Nous allons diviser les maisons en 4 classes en fonction de leurs surface $X1=S$ : \n",
    "$S \\in[0,1500[$, $S \\in [1500,2500[$,$S \\in [2500,3500[$ et $S \\in [3500,4500]$,\n",
    "\n"
   ]
  },
  {
   "cell_type": "code",
   "execution_count": 45,
   "metadata": {},
   "outputs": [],
   "source": [
    "categories = pd.cut(data_multiple.X1,bins=[0,1500,2500,3500,4500],labels=['0<S<1500','1500<S<2500','2500<S<3500','3500<S<4500'])"
   ]
  },
  {
   "cell_type": "code",
   "execution_count": 46,
   "metadata": {},
   "outputs": [],
   "source": [
    "data_multiple.insert(3,'surface_range',categories)"
   ]
  },
  {
   "cell_type": "code",
   "execution_count": 72,
   "metadata": {},
   "outputs": [
    {
     "data": {
      "text/plain": [
       "Text(0.5, 0, 'Surface Range (en m2)')"
      ]
     },
     "execution_count": 72,
     "metadata": {},
     "output_type": "execute_result"
    },
    {
     "data": {
      "image/png": "[encoded data removed]",
      "text/plain": [
       "<Figure size 432x288 with 1 Axes>"
      ]
     },
     "metadata": {
      "needs_background": "light"
     },
     "output_type": "display_data"
    }
   ],
   "source": [
    "plt.figure()\n",
    "sns.boxplot(x=data_multiple[\"surface_range\"],y=data_multiple[\"y\"])\n",
    "plt.title(\"boxplot des prix en fonction de la classe de surface des maisons\")\n",
    "plt.ylabel(\"Prix (en $)\")\n",
    "plt.xlabel(\"Surface Range (en m2)\")"
   ]
  },
  {
   "cell_type": "markdown",
   "metadata": {},
   "source": [
    "Ce boxplot nous donne un aperçu de la répartitions des prix des maisons selon la classe de surface à laquelle elles appartiennent."
   ]
  },
  {
   "cell_type": "markdown",
   "metadata": {},
   "source": [
    "## Normalisation des variables (Feature scaling)"
   ]
  },
  {
   "cell_type": "markdown",
   "metadata": {},
   "source": [
    "Dans le cas d'une régression multiple, le gradient descendant est appliqué à plusieurs variables explicatives. Pour qu'il puisse fonctionner correctement, il est important que les variables soit à la même échelle. Pour cette raison, nous les normalisons.<br/>\n",
    "Pour cela, nous réalisons l'opération suivante :<br/>\n",
    "<br/>\n",
    "$X_{i,nmz}=\\frac{X_i-mean(X_i)}{max(X_i)-min(X_i)}$ pour $i \\in {1,...,n}$ ou $X_{i,nmz}=\\frac{X_i-mean(X_i)}{std(X_i)}$ pour $i \\in {1,...,n}$ <br/>\n",
    "<br/>\n",
    "Ainsi, nous aurons $-1 \\leq X_i \\leq 1$ pour $i \\in {1,...,n}$ <br/>\n",
    "    L'équation de la régression devient alors : $y=\\theta_{0, nmz}+\\theta_{1, nmz}X_{1,nmz}+...+\\theta_{n, nmz}X_{n,nmz}$"
   ]
  },
  {
   "cell_type": "code",
   "execution_count": 48,
   "metadata": {},
   "outputs": [],
   "source": [
    "X1_normalized = (X1-np.mean(X1))/(np.max(X1)-np.min(X1)) # vecteur des surfaces normalisées"
   ]
  },
  {
   "cell_type": "code",
   "execution_count": 49,
   "metadata": {},
   "outputs": [],
   "source": [
    "X2_normalized = (X2-np.mean(X2))/(np.max(X2)-np.min(X2)) # vecteur des nombres de pièces normalisées"
   ]
  },
  {
   "cell_type": "code",
   "execution_count": 50,
   "metadata": {},
   "outputs": [],
   "source": [
    "m = y.shape[0] # taille de l'échantillon\n",
    "X = np.array([[1, X1[i], X2[i]] for i in range(m)]) # On ajoute une colonne de 1 à la matrice X\n",
    "X_nmz = np.array([[1, X1_normalized[i], X2_normalized[i]] for i in range(m)]) # Colonne des valeurs normalisées de la matrice X"
   ]
  },
  {
   "cell_type": "code",
   "execution_count": 51,
   "metadata": {},
   "outputs": [
    {
     "data": {
      "text/html": [
       "<div>\n",
       "<style scoped>\n",
       "    .dataframe tbody tr th:only-of-type {\n",
       "        vertical-align: middle;\n",
       "    }\n",
       "\n",
       "    .dataframe tbody tr th {\n",
       "        vertical-align: top;\n",
       "    }\n",
       "\n",
       "    .dataframe thead th {\n",
       "        text-align: right;\n",
       "    }\n",
       "</style>\n",
       "<table border=\"1\" class=\"dataframe\">\n",
       "  <thead>\n",
       "    <tr style=\"text-align: right;\">\n",
       "      <th></th>\n",
       "      <th>X1</th>\n",
       "      <th>X2</th>\n",
       "      <th>y</th>\n",
       "    </tr>\n",
       "  </thead>\n",
       "  <tbody>\n",
       "    <tr>\n",
       "      <th>0</th>\n",
       "      <td>0.028494</td>\n",
       "      <td>-0.042553</td>\n",
       "      <td>399900</td>\n",
       "    </tr>\n",
       "    <tr>\n",
       "      <th>1</th>\n",
       "      <td>-0.110502</td>\n",
       "      <td>-0.042553</td>\n",
       "      <td>329900</td>\n",
       "    </tr>\n",
       "    <tr>\n",
       "      <th>2</th>\n",
       "      <td>0.110127</td>\n",
       "      <td>-0.042553</td>\n",
       "      <td>369000</td>\n",
       "    </tr>\n",
       "    <tr>\n",
       "      <th>3</th>\n",
       "      <td>-0.161247</td>\n",
       "      <td>-0.292553</td>\n",
       "      <td>232000</td>\n",
       "    </tr>\n",
       "    <tr>\n",
       "      <th>4</th>\n",
       "      <td>0.275598</td>\n",
       "      <td>0.207447</td>\n",
       "      <td>539900</td>\n",
       "    </tr>\n",
       "  </tbody>\n",
       "</table>\n",
       "</div>"
      ],
      "text/plain": [
       "         X1        X2       y\n",
       "0  0.028494 -0.042553  399900\n",
       "1 -0.110502 -0.042553  329900\n",
       "2  0.110127 -0.042553  369000\n",
       "3 -0.161247 -0.292553  232000\n",
       "4  0.275598  0.207447  539900"
      ]
     },
     "execution_count": 51,
     "metadata": {},
     "output_type": "execute_result"
    }
   ],
   "source": [
    "# Création d'un dataframe contenant les variables normalisées.\n",
    "normalized_data = pd.DataFrame([[X1_normalized[i],X2_normalized[i],y[i]] for i in range(m)],columns=[\"X1\",\"X2\",\"y\"]) \n",
    "normalized_data.head()"
   ]
  },
  {
   "cell_type": "markdown",
   "metadata": {},
   "source": [
    "## Définition des paramètres du gradient descendant"
   ]
  },
  {
   "cell_type": "code",
   "execution_count": 52,
   "metadata": {},
   "outputs": [],
   "source": [
    "theta_init = np.array([0,0,0]) # Initialisation des paramètres de la régression"
   ]
  },
  {
   "cell_type": "code",
   "execution_count": 53,
   "metadata": {},
   "outputs": [],
   "source": [
    "alpha = 1 # Initialisation de alpha"
   ]
  },
  {
   "cell_type": "code",
   "execution_count": 73,
   "metadata": {},
   "outputs": [],
   "source": [
    "n_iter = 400 # Choix du nombre d'itération"
   ]
  },
  {
   "cell_type": "markdown",
   "metadata": {},
   "source": [
    "## Gradient descendant "
   ]
  },
  {
   "cell_type": "code",
   "execution_count": 55,
   "metadata": {},
   "outputs": [
    {
     "data": {
      "text/plain": [
       "array([340412.65957447, 504610.29953345, -34736.6665571 ])"
      ]
     },
     "execution_count": 55,
     "metadata": {},
     "output_type": "execute_result"
    }
   ],
   "source": [
    "theta_nmz = fct.gradient_descent_multiple(X_nmz, y, theta_init, alpha, n_iter)[0] # On applique le gradient descendant avec les variables normalisées.\n",
    "theta_nmz "
   ]
  },
  {
   "cell_type": "markdown",
   "metadata": {},
   "source": [
    "Comme nous avions normalisé nos variables, il faut recalculer les paramètres $\\theta_i$ pour repasser en variables non normalisées. Pour cela on utilise les formules suivantes :<br/>\n",
    "$\\theta_0 = \\theta_{0,nmz}-\\sum_{i=1}^{n}{\\frac{\\theta_{i,nmz}~ * ~mean(X_i)}{max(X_i)-min(X_i)}}$ et $\\theta_{i}=\\frac{\\theta_{i,nmz}}{max(X_i)-min(X_i)}$ pour $i \\in {1,...,n}$\n"
   ]
  },
  {
   "cell_type": "code",
   "execution_count": 56,
   "metadata": {},
   "outputs": [
    {
     "data": {
      "text/plain": [
       "array([89519.66313703,   139.16445106, -8684.16663927])"
      ]
     },
     "execution_count": 56,
     "metadata": {},
     "output_type": "execute_result"
    }
   ],
   "source": [
    "theta=fct.reverse_normalization(theta_nmz,X) # Cette fonction recalcule les theta_i en tenant compte cette fois de la normalisation des variables.\n",
    "theta"
   ]
  },
  {
   "cell_type": "markdown",
   "metadata": {},
   "source": [
    "Les prédictions se calcule grâce à la formule : <br/>\n",
    "$\\bar{y}=\\theta^{T}X$"
   ]
  },
  {
   "cell_type": "code",
   "execution_count": 57,
   "metadata": {},
   "outputs": [],
   "source": [
    "reg_multiple = linear_model.LinearRegression() # Définission du modèle à l'aide de la librairie scikit-learn."
   ]
  },
  {
   "cell_type": "code",
   "execution_count": 58,
   "metadata": {},
   "outputs": [
    {
     "data": {
      "text/plain": [
       "LinearRegression()"
      ]
     },
     "execution_count": 58,
     "metadata": {},
     "output_type": "execute_result"
    }
   ],
   "source": [
    "reg_multiple.fit(np.array([[X1[i],X2[i]] for i in range(m)]),y) # Entrainement du modèle"
   ]
  },
  {
   "cell_type": "code",
   "execution_count": 59,
   "metadata": {},
   "outputs": [
    {
     "data": {
      "text/plain": [
       "[89597.90954279754, 139.2106740176255, -8738.019112327827]"
      ]
     },
     "execution_count": 59,
     "metadata": {},
     "output_type": "execute_result"
    }
   ],
   "source": [
    "theta_skl = [reg_multiple.intercept_,reg_multiple.coef_[0],reg_multiple.coef_[1]] # Paramètres de la régression obtenus à l'aide de la librairie scikit-learn.\n",
    "theta_skl"
   ]
  },
  {
   "cell_type": "markdown",
   "metadata": {},
   "source": [
    "Les valeurs des paramètres $\\theta_i$ obtenue avec le gradient descendant que nous avons implémenté et celles obtenues avec la librairie scikit-learn sont relativement proche."
   ]
  },
  {
   "cell_type": "markdown",
   "metadata": {},
   "source": [
    "## Calcul du coût et choix de alpha"
   ]
  },
  {
   "cell_type": "markdown",
   "metadata": {},
   "source": [
    "Comme pour la régression simple on peut choisir le taux d'apprentissage $\\alpha$ en représentant le coût pour plusieurs valeurs de alpha et en choisissant la valeur correspondant à un coût minimal, atteint en un nombre minimal d'itérations. "
   ]
  },
  {
   "cell_type": "code",
   "execution_count": 60,
   "metadata": {},
   "outputs": [],
   "source": [
    "cost_values = fct.gradient_descent_multiple(X_nmz, y, theta_init, alpha, n_iter)[1] # Calcul de l'historique des coûts."
   ]
  },
  {
   "cell_type": "code",
   "execution_count": 75,
   "metadata": {},
   "outputs": [
    {
     "data": {
      "image/png": "[encoded data removed]",
      "text/plain": [
       "<Figure size 432x288 with 1 Axes>"
      ]
     },
     "metadata": {
      "needs_background": "light"
     },
     "output_type": "display_data"
    }
   ],
   "source": [
    "figure = plt.figure\n",
    "alpha_values = [1,0.3,0.1,0.03, 0.01] # Valeurs testées de alpha\n",
    "labels=[\"alpha=\"+str(x) for x in alpha_values] # Labels correspondant aux valeurs testées de alpha.\n",
    "for alpha in alpha_values: # On itère sur les valeurs de alpha que l'on veut tester.\n",
    "    cost_values = fct.gradient_descent_multiple(X_nmz, y, theta_init, alpha, n_iter)[1] #Calcul de l'historique des coûts pour la valeur courante de alpha\n",
    "    plt.plot(range(n_iter),cost_values) #Affichage du coût en fonction du nombre d'itération.\n",
    "plt.legend(labels);\n",
    "plt.title(\"Cost evolution\");\n",
    "plt.xlabel(\"Number of iteration\");\n",
    "plt.ylabel(\"Cost values\");"
   ]
  },
  {
   "cell_type": "markdown",
   "metadata": {},
   "source": [
    "La valeur $\\alpha=1$ semble être un bon candidat."
   ]
  },
  {
   "cell_type": "markdown",
   "metadata": {},
   "source": [
    "## Interprétation des résultats"
   ]
  },
  {
   "cell_type": "markdown",
   "metadata": {},
   "source": [
    "Nous avons détérminer les coefficients du modèle qui fournit le prix d'une maison en fonction de sa surface et du nombre de pièces : $prix = \\theta_0 ~ +\\theta_1 ~ * ~ surface + \\theta_2 ~ * ~ nombre ~ de ~ pièces$ <br/>\n",
    "Nous pouvons maintenant nous en servir sur des données qui n'appartienne pas à notre échantillons pour effectuer des prédictions.<br/>\n",
    "Exemple :<br/>\n",
    "\n",
    "|Maison|Surface (en m2)|Nombre de pièces|Prix (en dollars)|\n",
    "|:---|:---|:---|:---| \n",
    "|Maison 1|2000|5|?|\n",
    "|Maison 2|500|2|?|\n",
    "|Maison 3|1900|3|?|\n",
    "|Maison 4|?|5|300000|\n",
    "|Maison 5|1500|?|250000|\n",
    "\n",
    "Les points d'interrogations sont les valeurs que nous souhaitons prédire."
   ]
  },
  {
   "cell_type": "code",
   "execution_count": 62,
   "metadata": {},
   "outputs": [],
   "source": [
    "prix1 = np.dot([1,2000,5],theta_skl) # prédiction du prix de la maison 1\n",
    "prix2 = np.dot([1,500,2],theta_skl) # prédiction du prix de la maison 2\n",
    "prix3 = np.dot([1,1900,3],theta_skl) # prédiction du prix de la maison 3\n",
    "surface4 = (300000 - theta_skl[0]-theta_skl[2]*5)/theta_skl[1] #prédiction de la surface de la maison 4\n",
    "n_piece5 = (250000 - theta_skl[0]-theta_skl[1]*1500)/theta_skl[2] #prédiction de la surface de la maison 4"
   ]
  },
  {
   "cell_type": "markdown",
   "metadata": {},
   "source": [
    "En utilisant les paramètres calculés dans la section précédente, nous obtenons :<br/>\n",
    "\n",
    "|Maison|Surface (m2)|Nombre de pièces|Prix (en dollars)|\n",
    "|:---|:---|:---|:---| \n",
    "|Maison 1|2000|5|<span style=\"color:blue\">324329</span>|\n",
    "|Maison 2|500|2|<span style=\"color:blue\">141727</span>|\n",
    "|Maison 3|1900|3|<span style=\"color:blue\">327884</span>|\n",
    "|Maison 4|<span style=\"color:blue\">1825</span>|5|300000|\n",
    "|Maison 5|1500|<span style=\"color:blue\">5</span>|400000|"
   ]
  }
 ],
 "metadata": {
  "kernelspec": {
   "display_name": "Python 3",
   "language": "python",
   "name": "python3"
  },
  "language_info": {
   "codemirror_mode": {
    "name": "ipython",
    "version": 3
   },
   "file_extension": ".py",
   "mimetype": "text/x-python",
   "name": "python",
   "nbconvert_exporter": "python",
   "pygments_lexer": "ipython3",
   "version": "3.8.5"
  }
 },
 "nbformat": 4,
 "nbformat_minor": 4
}
